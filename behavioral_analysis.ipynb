{
 "cells": [
  {
   "cell_type": "markdown",
   "id": "6f5267e8",
   "metadata": {},
   "source": [
    "## Loading the required libraries and data"
   ]
  },
  {
   "cell_type": "code",
   "execution_count": null,
   "id": "926fd9b3-3df2-4d09-96fa-344611299da4",
   "metadata": {},
   "outputs": [],
   "source": [
    "import numpy as np\n",
    "import matplotlib.pyplot as plt\n",
    "import pandas as pd\n",
    "import seaborn as sns\n",
    "from scipy import stats\n",
    "import statsmodels\n",
    "from statsmodels.stats.anova import AnovaRM\n",
    "# import pingouin as pg\n",
    "%matplotlib inline\n",
    "\n",
    "#import statsmodels.api as sm\n",
    "import statsmodels.formula.api as smf\n",
    "from statsmodels.tools.sm_exceptions import ConvergenceWarning\n",
    "\n",
    "plt.style.use(\"seaborn-colorblind\")\n",
    "plt.rcParams['figure.figsize'] = [8, 5]\n",
    "# plt.rcParams['axes.linewidth'] = 2\n",
    "sns.set_context(\"talk\")\n",
    "# change font of labels\n",
    "plt.rcParams['font.family'] = 'arial'\n",
    "\n",
    "df_all_agg_contious_a_b = pd.read_csv('abc_analysis_5day_withc.csv')\n",
    "df_all_agg_contious_a_b.rename(columns = {'Exploration : time pressed': 'Exploration', 'Dominance : time pressed': 'Dominance', 'Attack : time pressed': 'Attack', 'attack_number_presses': 'number_att', 'Attack : latency 1st press': 'att_latency', 'Attack : mean press duration': 'mean_press'}, inplace= True)\n",
    "\n",
    "df_all_agg_contious_a_b = df_all_agg_contious_a_b.query('Group == \"A\" or Group == \"B\"')\n"
   ]
  },
  {
   "cell_type": "markdown",
   "id": "5ba30165",
   "metadata": {},
   "source": [
    "## Baseline aggression data for figure 1"
   ]
  },
  {
   "cell_type": "code",
   "execution_count": null,
   "id": "dd4ee13b-714e-4c5d-a3a0-188a13bf8867",
   "metadata": {
    "tags": []
   },
   "outputs": [],
   "source": [
    "beh = 'Attack' # 'Exploration' 'Dominance' 'Attack', 'number_att', 'att_latency', 'mean_press'\n",
    "df = df_all_agg_contious_a_b.groupby(['Animal', 'Day', 'Group']).agg(sum)\n",
    "df = pd.DataFrame(df[f'{beh}'])\n",
    "df = df.reset_index('Day')\n",
    "df_day1_animals = df[df['Day'] == 1]\n",
    "df_day5_animals = df[df['Day'] == 5]\n",
    "df_diff = (df_day5_animals - df_day1_animals)\n",
    "df_diff = df_diff.reset_index('Group')\n",
    "df_diff = df_diff.reset_index()\n",
    "g = sns.pointplot(y = f'{beh}', x = 'Group', data = df_diff, alpha = 0.10)\n",
    "plt.setp(g.collections, alpha = .4)\n",
    "plt.setp(g.lines, alpha = .4)\n",
    "sns.swarmplot(y=f'{beh}', x=\"Group\", data= df_diff, edgecolor=\"m\", alpha = .90)\n",
    "\n",
    "g.set(ylabel = 'Difference in Attack (s)')\n",
    "g.set(title = 'Day5-Day1' )\n",
    "sns.set_context(\"poster\")\n",
    "# plt.rcParams['figure.figsize'] = [5,5]\n",
    "# plt.savefig('Day5_vs_Day1_abc_aggression.pdf')"
   ]
  },
  {
   "cell_type": "code",
   "execution_count": null,
   "id": "54c22dc4",
   "metadata": {},
   "outputs": [],
   "source": [
    "# test for signifigance\n",
    "df_diff_a = df_diff[df_diff['Group'] == 'A']\n",
    "df_diff_b = df_diff[df_diff['Group'] == 'B']\n",
    "\n",
    "# check if difference between groups a and b is significant\n",
    "print(stats.ttest_ind(df_diff_a[f'{beh}'], df_diff_b[f'{beh}']), '\\n')\n",
    "\n",
    "# Perform one-way ANOVA\n",
    "f_stat, p_value = stats.f_oneway(df_diff_a[f'{beh}'], df_diff_b[f'{beh}'])\n",
    "\n",
    "# Print the results\n",
    "print(\"One-way ANOVA results:\")\n",
    "print(\"F-statistic:\", f_stat)\n",
    "print(\"p-value:\", p_value)\n",
    "\n"
   ]
  },
  {
   "cell_type": "code",
   "execution_count": null,
   "id": "ed0b4d52",
   "metadata": {},
   "outputs": [],
   "source": [
    "# setting up for plotting and mixed lienar model\n",
    "df_all_agg_contious_a_b.loc[df_all_agg_contious_a_b['Group'] == 'A', 'color'] = '#E78AC3'\n",
    "df_all_agg_contious_a_b.loc[df_all_agg_contious_a_b['Group'] == 'B', 'color'] = '#66C2A5'\n",
    "\n",
    "df = df_all_agg_contious_a_b"
   ]
  },
  {
   "cell_type": "code",
   "execution_count": null,
   "id": "1ab55552",
   "metadata": {},
   "outputs": [],
   "source": [
    "# plotting\n",
    "\n",
    "plt.rcParams[\"figure.figsize\"] = (10,5)\n",
    "\n",
    "line_plot = sns.pointplot(x=\"Day\", y=f'{beh}', hue = 'Animal', palette= df[df['Group']==\"A\"]['color'],data=df[df['Group']==\"A\"], linestyles = ['--', '--', '--', '--', '--', '--', '--', '--', '--', '--', '--', '--'], zorder = 1)\n",
    "line_plot = sns.pointplot(x=\"Day\", y=f'{beh}', hue = 'Animal', palette= df[df['Group']==\"B\"]['color'],data=df[df['Group']==\"B\"], linestyles = ['--', '--', '--', '--', '--', '--', '--', '--', '--', '--', '--'], zorder = 1)\n",
    "plt.setp(line_plot.collections, alpha=0) #for the markers\n",
    "plt.setp(line_plot.lines, linewidth = 1, zorder=1) #for the lines\n",
    "line_plot.set(xlabel = 'Day', ylabel = f'{beh}' + ' ' + 'Time (s)') #title = '6 Day Social Aggression: Resident Intruder')\n",
    "\n",
    "\n",
    "agg = sns.pointplot(data = df, x = 'Day', y= f'{beh}', ci=68, hue = 'Group', palette= ['#E78AC3', '#66C2A5'], errwidth = 2, capsize = 0.1, markers = ['s', 'o'])\n",
    "agg.set(ylabel = f'{beh}' + ' ' + 'Time (s)', xlabel= '')\n",
    "\n",
    "# move agg plot to front\n",
    "agg.set_zorder(10)\n",
    "line_plot.get_legend().remove()\n",
    "# get rid of top and right borders\n",
    "sns.despine()\n",
    "\n",
    "plt.savefig(f'{beh}' + 'replicate.pdf')\n"
   ]
  },
  {
   "cell_type": "code",
   "execution_count": null,
   "id": "9efa0be1",
   "metadata": {},
   "outputs": [],
   "source": [
    "path = '...calcium_imaging_boris_files_update_with_latency.xlsx'\n",
    "df = pd.read_excel(path)\n",
    "sub_df.rename(columns={'exp_duration': 'Exploration', 'dom_duration': 'Dominance', 'att_duration': 'Attack'}, inplace = True)\n",
    "df = sub_df"
   ]
  },
  {
   "cell_type": "markdown",
   "id": "bd477047",
   "metadata": {},
   "source": [
    "## Calcium imaged mouse behavior data for figure 2"
   ]
  },
  {
   "cell_type": "code",
   "execution_count": null,
   "id": "faa573f8",
   "metadata": {},
   "outputs": [],
   "source": [
    "path = ''\n",
    "sub_df = pd.read_excel(path)\n",
    "sub_df.rename(columns={'exp_duration': 'Exploration', 'dom_duration': 'Dominance', 'att_duration': 'Attack'}, inplace = True)\n",
    "df = sub_df"
   ]
  },
  {
   "cell_type": "code",
   "execution_count": null,
   "id": "e3ad566b",
   "metadata": {},
   "outputs": [],
   "source": [
    "beh = 'att_occurances'\n",
    "\n",
    "line_plot = sns.pointplot(data = sub_df, x = 'day', y= f'{beh}', hue = 'mouse_id', ci=68, color = 'black')\n",
    "plt.setp(line_plot.collections, alpha=0) #for the markers\n",
    "plt.setp(line_plot.lines, alpha=.1)       #for the lines\n",
    "\n",
    "sns.pointplot(data = df, x = 'day', y= f'{beh}', ci=68, color = 'magenta')\n",
    "\n",
    "line_plot.set(xlabel = 'Day', ylabel = '# Attack bouts')\n",
    "\n",
    "plt.axvline(4.5, 0,1, color = 'r', linestyle = '--', label = 'new_intruder')\n",
    "plt.legend(title = 'Mouse_ids', loc = 'lower left', bbox_to_anchor = (1,0))\n",
    "line_plot.get_legend().remove()\n",
    "\n",
    "# # get rid of top and right borders\n",
    "sns.despine()\n",
    "# move agg plot to front\n",
    "agg.set_zorder(10)\n",
    "# get rid of top and right borders\n",
    "sns.despine()\n",
    "# decrease margins of figure\n",
    "plt.margins(0.05)\n"
   ]
  }
 ],
 "metadata": {
  "kernelspec": {
   "display_name": "Python 3 (ipykernel)",
   "language": "python",
   "name": "python3"
  },
  "language_info": {
   "codemirror_mode": {
    "name": "ipython",
    "version": 3
   },
   "file_extension": ".py",
   "mimetype": "text/x-python",
   "name": "python",
   "nbconvert_exporter": "python",
   "pygments_lexer": "ipython3",
   "version": "3.10.5"
  }
 },
 "nbformat": 4,
 "nbformat_minor": 5
}
